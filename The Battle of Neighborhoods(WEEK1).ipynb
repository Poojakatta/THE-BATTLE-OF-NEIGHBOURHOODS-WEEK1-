{
    "cells": [
        {
            "cell_type": "markdown",
            "metadata": {
                "collapsed": true
            },
            "source": "# THE BATTLE OF NEIGHBOURHOODS #"
        },
        {
            "cell_type": "markdown",
            "metadata": {},
            "source": "### INTRODUCTION/BUSINESS PROBLEM: ###\n"
        },
        {
            "cell_type": "markdown",
            "metadata": {},
            "source": "Hyderabad, besides being called the Pearl city of India and also one of the biggest metropolis. Hyderabad is among the global centres of information technology for which it is known as Cyberabad (Cyber City).\n\nThe basis of our study is to provide a Employee, who secured a good position in Google.Inc wants to buy a residential area in Hyderabad, which meets his requirements.\n\nThe best residential area according to the Employee has meet the below criteria:\n\n* The Area should be near to his office, so that his travel time can be reduced.\n* Also, the venues near to his residential area should have all the facilities like Gym, Super Markets etc\n"
        },
        {
            "cell_type": "markdown",
            "metadata": {},
            "source": "### TARGET AUDIENCE: ###"
        },
        {
            "cell_type": "markdown",
            "metadata": {},
            "source": "This wil be useful for individual seeking for a best residential area which fits all his requirements, while moving to a new city and also for real estate agents to suggest the best place for their customers\n"
        },
        {
            "cell_type": "markdown",
            "metadata": {},
            "source": "### SUCCESS CRITERIA: ###"
        },
        {
            "cell_type": "markdown",
            "metadata": {},
            "source": "The success criteria of the project will be a good recommendation of residential area to the Employee based on his requirements\n"
        },
        {
            "cell_type": "markdown",
            "metadata": {},
            "source": "### DATA: ###"
        },
        {
            "cell_type": "markdown",
            "metadata": {},
            "source": "I will be using FourSquare API to get the venue details\n\nI got the House Pricing data from real estate website, cleaned the data, and saved it into CSV file in a format, so that I can use for my study.\n\nCSV file is availabe in the below link:\n    \n<https://gist.github.com/Poojakatta/88f2a70ea785fecc630eb3be5724c711>"
        },
        {
            "cell_type": "code",
            "execution_count": null,
            "metadata": {},
            "outputs": [],
            "source": ""
        }
    ],
    "metadata": {
        "kernelspec": {
            "display_name": "Python 3.6",
            "language": "python",
            "name": "python3"
        },
        "language_info": {
            "codemirror_mode": {
                "name": "ipython",
                "version": 3
            },
            "file_extension": ".py",
            "mimetype": "text/x-python",
            "name": "python",
            "nbconvert_exporter": "python",
            "pygments_lexer": "ipython3",
            "version": "3.6.9"
        }
    },
    "nbformat": 4,
    "nbformat_minor": 1
}